{
 "cells": [
  {
   "cell_type": "markdown",
   "id": "a9b20033-0434-47bd-8dad-f237656ce3cf",
   "metadata": {},
   "source": [
    "# My Jupyter Notebook on IBM Watson Studio"
   ]
  },
  {
   "cell_type": "markdown",
   "id": "d9efc792-9135-4641-9190-9b1b6c213498",
   "metadata": {},
   "source": [
    "**Nabeel**\n",
    "\n",
    "I want to become a Retail Analyst"
   ]
  },
  {
   "cell_type": "markdown",
   "id": "bb7fd0f1-e815-4d21-8d2a-5429ee5aff7d",
   "metadata": {},
   "source": [
    "*I am interested in Data Science because I want to start my career as a Retail or Business Analyst in Data Science, I want to provide my services as a prescriptive analytics to the company by giving them ideas or steps which can help them in getting their desired outputs.*"
   ]
  },
  {
   "cell_type": "markdown",
   "id": "2686b11f-44e5-48fe-80ac-417f82586b79",
   "metadata": {},
   "source": [
    "### I have used for loop in a below code to print values from 0 to 10 "
   ]
  },
  {
   "cell_type": "code",
   "execution_count": 1,
   "id": "c19fe175-e7a8-457b-aea9-7efe9762e764",
   "metadata": {},
   "outputs": [
    {
     "name": "stdout",
     "output_type": "stream",
     "text": [
      "0\n",
      "1\n",
      "2\n",
      "3\n",
      "4\n",
      "5\n",
      "6\n",
      "7\n",
      "8\n",
      "9\n",
      "10\n"
     ]
    }
   ],
   "source": [
    "for i in range(0, 11):\n",
    "    print(i)"
   ]
  },
  {
   "cell_type": "markdown",
   "id": "442f724c-e96c-40b9-b90e-6cc4715afc25",
   "metadata": {},
   "source": [
    "Strike Through\n",
    "\n",
    "~~70% OFF~~"
   ]
  },
  {
   "cell_type": "markdown",
   "id": "6340368a-0a02-4436-80b8-6ee6221ca591",
   "metadata": {},
   "source": [
    "Block Quote\n",
    "> The future belongs to those who believe in beauty of their dreams."
   ]
  },
  {
   "cell_type": "markdown",
   "id": "aa1aa397-0231-4062-b57a-b3a916a39c50",
   "metadata": {},
   "source": [
    "Numbered List\n",
    "\n",
    "1. Item 1\n",
    "2. Item 2\n",
    "3. Item3"
   ]
  }
 ],
 "metadata": {
  "kernelspec": {
   "display_name": "Python",
   "language": "python",
   "name": "conda-env-python-py"
  },
  "language_info": {
   "codemirror_mode": {
    "name": "ipython",
    "version": 3
   },
   "file_extension": ".py",
   "mimetype": "text/x-python",
   "name": "python",
   "nbconvert_exporter": "python",
   "pygments_lexer": "ipython3",
   "version": "3.7.12"
  }
 },
 "nbformat": 4,
 "nbformat_minor": 5
}
